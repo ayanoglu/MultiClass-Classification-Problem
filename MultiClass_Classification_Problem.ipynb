{
  "nbformat": 4,
  "nbformat_minor": 0,
  "metadata": {
    "kernelspec": {
      "display_name": "Python 3",
      "language": "python",
      "name": "python3"
    },
    "language_info": {
      "codemirror_mode": {
        "name": "ipython",
        "version": 3
      },
      "file_extension": ".py",
      "mimetype": "text/x-python",
      "name": "python",
      "nbconvert_exporter": "python",
      "pygments_lexer": "ipython3",
      "version": "3.7.4"
    },
    "colab": {
      "name": "MultiClass Classification Problem.ipynb",
      "provenance": [],
      "include_colab_link": true
    }
  },
  "cells": [
    {
      "cell_type": "markdown",
      "metadata": {
        "id": "view-in-github",
        "colab_type": "text"
      },
      "source": [
        "<a href=\"https://colab.research.google.com/github/ayanoglu/MultiClass-Classification-Problem/blob/main/MultiClass_Classification_Problem.ipynb\" target=\"_parent\"><img src=\"https://colab.research.google.com/assets/colab-badge.svg\" alt=\"Open In Colab\"/></a>"
      ]
    },
    {
      "cell_type": "code",
      "metadata": {
        "id": "IjgR3ziJphcg",
        "colab": {
          "resources": {
            "http://localhost:8080/nbextensions/google.colab/files.js": {
              "data": "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",
              "ok": true,
              "headers": [
                [
                  "content-type",
                  "application/javascript"
                ]
              ],
              "status": 200,
              "status_text": ""
            }
          },
          "base_uri": "https://localhost:8080/",
          "height": 72
        },
        "outputId": "d512f675-f8cb-4528-80e7-a3f57ecb5990"
      },
      "source": [
        "import pandas as pd\n",
        "import keras\n",
        "import numpy as np\n",
        "from keras.models import Sequential\n",
        "from keras.layers import Dense\n",
        "from keras.wrappers.scikit_learn import KerasClassifier\n",
        "from keras.utils import np_utils\n",
        "from sklearn.model_selection import cross_val_score\n",
        "from sklearn.model_selection import KFold\n",
        "from sklearn.preprocessing import LabelEncoder\n",
        "from sklearn.preprocessing import OneHotEncoder\n",
        "from sklearn.pipeline import Pipeline\n",
        "from keras import regularizers\n",
        "from tensorflow.keras.optimizers import SGD\n",
        "from matplotlib import pyplot\n",
        "import matplotlib.pyplot as plt\n",
        "from google.colab import files\n",
        "uploaded = files.upload()"
      ],
      "execution_count": 20,
      "outputs": [
        {
          "output_type": "display_data",
          "data": {
            "text/html": [
              "\n",
              "     <input type=\"file\" id=\"files-3de69e77-8816-4e58-a432-bf952f61b0c8\" name=\"files[]\" multiple disabled\n",
              "        style=\"border:none\" />\n",
              "     <output id=\"result-3de69e77-8816-4e58-a432-bf952f61b0c8\">\n",
              "      Upload widget is only available when the cell has been executed in the\n",
              "      current browser session. Please rerun this cell to enable.\n",
              "      </output>\n",
              "      <script src=\"/nbextensions/google.colab/files.js\"></script> "
            ],
            "text/plain": [
              "<IPython.core.display.HTML object>"
            ]
          },
          "metadata": {}
        },
        {
          "output_type": "stream",
          "name": "stdout",
          "text": [
            "Saving Image_Segmentation.csv to Image_Segmentation (1).csv\n"
          ]
        }
      ]
    },
    {
      "cell_type": "code",
      "metadata": {
        "colab": {
          "base_uri": "https://localhost:8080/"
        },
        "id": "RNKPIt-KuQqx",
        "outputId": "46b4d57c-c138-4149-b661-e061cbbbed2d"
      },
      "source": [
        "import io\n",
        "datasetDF = pd.read_csv(io.BytesIO(uploaded['Image_Segmentation.csv']))\n",
        "FDS = pd.DataFrame.to_numpy(datasetDF)\n",
        "FDS[0:2,:]"
      ],
      "execution_count": 21,
      "outputs": [
        {
          "output_type": "execute_result",
          "data": {
            "text/plain": [
              "array([[ 2.1800000e+02,  1.7800000e+02,  9.0000000e+00,  1.1111111e-01,\n",
              "         0.0000000e+00,  8.3333270e-01,  5.4772234e-01,  1.1111094e+00,\n",
              "         5.4433070e-01,  5.9629630e+01,  5.2444443e+01,  7.5222220e+01,\n",
              "         5.1222220e+01, -2.1555555e+01,  4.6777780e+01, -2.5222221e+01,\n",
              "         7.5222220e+01,  3.1899637e-01, -2.0405545e+00,  6.0000000e+00],\n",
              "       [ 1.1300000e+02,  1.3000000e+02,  9.0000000e+00,  0.0000000e+00,\n",
              "         0.0000000e+00,  2.7777776e-01,  2.5092423e-01,  3.3333328e-01,\n",
              "         3.6514830e-01,  8.8888890e-01,  0.0000000e+00,  2.5555556e+00,\n",
              "         1.1111111e-01, -2.6666667e+00,  5.0000000e+00, -2.3333333e+00,\n",
              "         2.5555556e+00,  1.0000000e+00, -2.1232540e+00,  3.0000000e+00]])"
            ]
          },
          "metadata": {},
          "execution_count": 21
        }
      ]
    },
    {
      "cell_type": "code",
      "metadata": {
        "colab": {
          "base_uri": "https://localhost:8080/"
        },
        "id": "6xOX4FZdyxr9",
        "outputId": "bd58ac55-5c5b-4f15-d0f3-19ce549f06ca"
      },
      "source": [
        "FDS = np.delete(FDS, 2, 1) # delete FDS's 2nd Column because all values are 9 in that column\n",
        "FDS[0:2, :]"
      ],
      "execution_count": 22,
      "outputs": [
        {
          "output_type": "execute_result",
          "data": {
            "text/plain": [
              "array([[ 2.1800000e+02,  1.7800000e+02,  1.1111111e-01,  0.0000000e+00,\n",
              "         8.3333270e-01,  5.4772234e-01,  1.1111094e+00,  5.4433070e-01,\n",
              "         5.9629630e+01,  5.2444443e+01,  7.5222220e+01,  5.1222220e+01,\n",
              "        -2.1555555e+01,  4.6777780e+01, -2.5222221e+01,  7.5222220e+01,\n",
              "         3.1899637e-01, -2.0405545e+00,  6.0000000e+00],\n",
              "       [ 1.1300000e+02,  1.3000000e+02,  0.0000000e+00,  0.0000000e+00,\n",
              "         2.7777776e-01,  2.5092423e-01,  3.3333328e-01,  3.6514830e-01,\n",
              "         8.8888890e-01,  0.0000000e+00,  2.5555556e+00,  1.1111111e-01,\n",
              "        -2.6666667e+00,  5.0000000e+00, -2.3333333e+00,  2.5555556e+00,\n",
              "         1.0000000e+00, -2.1232540e+00,  3.0000000e+00]])"
            ]
          },
          "metadata": {},
          "execution_count": 22
        }
      ]
    },
    {
      "cell_type": "code",
      "metadata": {
        "colab": {
          "base_uri": "https://localhost:8080/"
        },
        "id": "0UZhXnCtxzXy",
        "outputId": "b8252ea9-cefd-4460-f048-60211cf113a7"
      },
      "source": [
        "FDS[:,:-1] = (FDS[:,:-1] - FDS[:,:-1].mean(axis=0))/FDS[:,:-1].std(axis=0) #zero mean unit variance\n",
        "FDS[0:2, :]"
      ],
      "execution_count": 23,
      "outputs": [
        {
          "output_type": "execute_result",
          "data": {
            "text/plain": [
              "array([[ 1.27595835,  0.94866117,  2.40456238, -0.19499023, -0.39348967,\n",
              "        -0.11532365, -0.36425805, -0.13099452,  0.59112361,  0.55981008,\n",
              "         0.71273717,  0.46918886, -0.76447857,  1.29564706, -1.42829014,\n",
              "         0.7006206 , -0.47156332, -0.4396972 ,  6.        ],\n",
              "       [-0.16420215,  0.11399539, -0.35792187, -0.19499023, -0.59899495,\n",
              "        -0.121929  , -0.57952562, -0.1340355 , -0.94780396, -0.93730853,\n",
              "        -0.95682236, -0.93667834,  0.86560197, -0.83751938,  0.55105972,\n",
              "        -0.99260467,  2.51633619, -0.49313265,  3.        ]])"
            ]
          },
          "metadata": {},
          "execution_count": 23
        }
      ]
    },
    {
      "cell_type": "code",
      "metadata": {
        "id": "JPbdu0F5phcq"
      },
      "source": [
        "#One-Hot Encoding\n",
        "Ydata = FDS[:,18]\n",
        "onehot_encoder = OneHotEncoder(sparse=False)\n",
        "Ydata = Ydata.reshape(len(Ydata), 1)\n",
        "onehot_encoded = onehot_encoder.fit_transform(Ydata)\n",
        "\n",
        "TrainX = FDS[0:2000,:-1]\n",
        "TestX = FDS[2000:2300,:-1]\n",
        "TrainY = onehot_encoded[0:2000,:]\n",
        "TestY = onehot_encoded[2000:2300,:]\n",
        "RL2 = 0.005 # Reg L2\n",
        "LR = 0.01 # Learning rate\n"
      ],
      "execution_count": 24,
      "outputs": []
    },
    {
      "cell_type": "code",
      "metadata": {
        "colab": {
          "base_uri": "https://localhost:8080/"
        },
        "id": "xrTUV7e0uidv",
        "outputId": "7a3e188a-3fac-4d96-e4f0-8dd4d8382272"
      },
      "source": [
        "# define baseline model 1\n",
        "def model_1():\n",
        "    # create model\n",
        "    model = Sequential()\n",
        "    model.add(Dense(5, input_dim=18, kernel_regularizer=regularizers.l2(RL2), activation='relu'))\n",
        "    model.add(Dense(7, activation='softmax'))\n",
        "    # Compile model\n",
        "    opt = SGD(lr=LR)\n",
        "    model.compile(loss='categorical_crossentropy', optimizer=opt, metrics=['accuracy'])\n",
        "    # fit model\n",
        "    history1 = model.fit(TrainX, TrainY, validation_data=(TestX, TestY), epochs=100, verbose=0)\n",
        "    _, train_acc1 = model.evaluate(TrainX, TrainY, verbose=0)\n",
        "    _, test_acc1 = model.evaluate(TestX, TestY, verbose=0)\n",
        "    return [train_acc1, test_acc1]\n",
        "\n",
        "Results_1 = model_1()\n",
        "train_acc1 = Results_1[0]\n",
        "test_acc1 = Results_1[1]\n",
        "print('Model 1, Train: %.3f, Test: %.3f' % (train_acc1, test_acc1))\n",
        "\n",
        "# define baseline model 2\n",
        "def model_2():\n",
        "    # create model\n",
        "    model = Sequential()\n",
        "    model.add(Dense(5, input_dim=18, kernel_regularizer=regularizers.l2(RL2), activation='relu'))\n",
        "    model.add(Dense(5, input_dim=5, kernel_regularizer=regularizers.l2(RL2), activation='relu'))\n",
        "    model.add(Dense(7, activation='softmax'))\n",
        "    # Compile model\n",
        "    opt = SGD(lr=LR)\n",
        "    model.compile(loss='categorical_crossentropy', optimizer=opt, metrics=['accuracy'])\n",
        "    # fit model\n",
        "    history2 = model.fit(TrainX, TrainY, validation_data=(TestX, TestY), epochs=100, verbose=0)\n",
        "    _, train_acc2 = model.evaluate(TrainX, TrainY, verbose=0)\n",
        "    _, test_acc2 = model.evaluate(TestX, TestY, verbose=0)\n",
        "    return [train_acc2, test_acc2]\n",
        "\n",
        "Results_2 = model_2()\n",
        "train_acc2 = Results_2[0]\n",
        "test_acc2 = Results_2[1]\n",
        "print('Model 2, Train: %.3f, Test: %.3f' % (train_acc2, test_acc2))\n",
        "\n",
        "# define baseline model 3\n",
        "def model_3():\n",
        "    # create model\n",
        "    model = Sequential()\n",
        "    model.add(Dense(25, input_dim=18, kernel_regularizer=regularizers.l2(RL2), activation='relu'))\n",
        "    model.add(Dense(7, activation='softmax'))\n",
        "    # Compile model\n",
        "    opt = SGD(lr=LR)\n",
        "    model.compile(loss='categorical_crossentropy', optimizer=opt, metrics=['accuracy'])\n",
        "    # fit model\n",
        "    history3 = model.fit(TrainX, TrainY, validation_data=(TestX, TestY), epochs=100, verbose=0)\n",
        "    _, train_acc3 = model.evaluate(TrainX, TrainY, verbose=0)\n",
        "    _, test_acc3 = model.evaluate(TestX, TestY, verbose=0)\n",
        "    return [train_acc3, test_acc3]\n",
        "\n",
        "Results_3 = model_3()\n",
        "train_acc3 = Results_3[0]\n",
        "test_acc3 = Results_3[1]\n",
        "print('Model 3, Train: %.3f, Test: %.3f' % (train_acc3, test_acc3))\n",
        "\n",
        "# define baseline model 4\n",
        "def model_4():\n",
        "    # create model\n",
        "    model = Sequential()\n",
        "    model.add(Dense(25, input_dim=18, kernel_regularizer=regularizers.l2(RL2), activation='relu'))\n",
        "    model.add(Dense(25, input_dim=25, kernel_regularizer=regularizers.l2(RL2), activation='relu'))\n",
        "    model.add(Dense(7, activation='softmax'))\n",
        "    # Compile model\n",
        "    opt = SGD(lr=LR)\n",
        "    model.compile(loss='categorical_crossentropy', optimizer=opt, metrics=['accuracy'])\n",
        "    # fit model\n",
        "    history4 = model.fit(TrainX, TrainY, validation_data=(TestX, TestY), epochs=100, verbose=0)\n",
        "    _, train_acc4 = model.evaluate(TrainX, TrainY, verbose=0)\n",
        "    _, test_acc4 = model.evaluate(TestX, TestY, verbose=0)\n",
        "    return [train_acc4, test_acc4]\n",
        "\n",
        "Results_4 = model_4()\n",
        "train_acc4 = Results_4[0]\n",
        "test_acc4 = Results_4[1]\n",
        "print('Model 4, Train: %.3f, Test: %.3f' % (train_acc4, test_acc4))\n"
      ],
      "execution_count": 25,
      "outputs": [
        {
          "output_type": "stream",
          "name": "stderr",
          "text": [
            "/usr/local/lib/python3.7/dist-packages/keras/optimizer_v2/optimizer_v2.py:356: UserWarning: The `lr` argument is deprecated, use `learning_rate` instead.\n",
            "  \"The `lr` argument is deprecated, use `learning_rate` instead.\")\n"
          ]
        },
        {
          "output_type": "stream",
          "name": "stdout",
          "text": [
            "Model 1, Train: 0.897, Test: 0.873\n",
            "Model 2, Train: 0.884, Test: 0.883\n",
            "Model 3, Train: 0.945, Test: 0.923\n",
            "Model 4, Train: 0.959, Test: 0.940\n"
          ]
        }
      ]
    },
    {
      "cell_type": "code",
      "metadata": {
        "colab": {
          "base_uri": "https://localhost:8080/",
          "height": 294
        },
        "id": "3Zlw1G1luxT_",
        "outputId": "e686fc91-9fdc-4f45-a7ac-ce679fe68deb"
      },
      "source": [
        "names = ['Model 1 (5)', 'Model 2 (5x5)', 'Model 3 (25)', 'Model 4 (25x25)']\n",
        "values = [test_acc1, test_acc2, test_acc3, test_acc4]\n",
        "\n",
        "#plt.subplot(131)\n",
        "plt.bar(names, values)\n",
        "plt.suptitle('Avarage Classification Accuracy vs Model')\n",
        "plt.ylabel('Test Accuracy')\n",
        "plt.show()"
      ],
      "execution_count": 26,
      "outputs": [
        {
          "output_type": "display_data",
          "data": {
            "image/png": "[encoded data removed]",
            "text/plain": [
              "<Figure size 432x288 with 1 Axes>"
            ]
          },
          "metadata": {
            "needs_background": "light"
          }
        }
      ]
    }
  ]
}